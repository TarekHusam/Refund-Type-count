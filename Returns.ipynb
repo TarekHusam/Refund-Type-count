{
 "cells": [
  {
   "cell_type": "code",
   "execution_count": 1,
   "id": "59e50d4a",
   "metadata": {},
   "outputs": [],
   "source": [
    "import pandas as pd"
   ]
  },
  {
   "cell_type": "code",
   "execution_count": 2,
   "id": "4520e624",
   "metadata": {},
   "outputs": [],
   "source": [
    "df = pd.read_excel(r'Desktop\\Data\\Sales\\2023\\2023 Sales.xlsx')"
   ]
  },
  {
   "cell_type": "code",
   "execution_count": 3,
   "id": "f25c01e6",
   "metadata": {},
   "outputs": [],
   "source": [
    "#Filter Paytype for Cash returns\n",
    "value1 = 'Cash'\n",
    "value2 = 'Credit'\n",
    "value3 = 'Cash,Credit'\n",
    "value4 = 'Return Sales'\n",
    "\n",
    "filtered_df = df[(df['PAYTYPE'] == value1) | (df['PAYTYPE'] == value2) |(df['PAYTYPE'] == value3)]\n",
    "\n",
    "#Filter Returns or Sales for Cash returns\n",
    "filtered_df2 = filtered_df[(filtered_df['TYPE'] == value4)]"
   ]
  },
  {
   "cell_type": "code",
   "execution_count": 4,
   "id": "fcc843e4",
   "metadata": {},
   "outputs": [],
   "source": [
    "#Filter Samer Branches\n",
    "filtered_df3 = filtered_df2[filtered_df2['PosNo'].isin([3, 5, 14, 15, 23, 25, 33, 36, 37, 40, 46,47])]"
   ]
  },
  {
   "cell_type": "code",
   "execution_count": null,
   "id": "ac93c4fc",
   "metadata": {},
   "outputs": [],
   "source": [
    "#print data Cash\n",
    "filtered_df3"
   ]
  },
  {
   "cell_type": "code",
   "execution_count": 6,
   "id": "96796d3f",
   "metadata": {},
   "outputs": [],
   "source": [
    "#Filter Paytype for Insurance returns\n",
    "value5 = 'Insurance'\n",
    "value6 = 'Credit,Insurance'\n",
    "value7 = 'Cash,Insurance'\n",
    "value8 = 'Cash,Credit,Insurance'\n",
    "value9 = 'Return Sales'\n",
    "\n",
    "#Filter Paytype for Insurance returns\n",
    "filtered_df_ins = df[(df['PAYTYPE'] == value5) | (df['PAYTYPE'] == value6) |(df['PAYTYPE'] == value7) \n",
    "                     |(df['PAYTYPE'] == value8) ]\n",
    "\n",
    "#Filter Returns or Sales for Insurance returns\n",
    "filtered_df_ins_2 = filtered_df_ins[(filtered_df_ins['TYPE'] == value9)]"
   ]
  },
  {
   "cell_type": "code",
   "execution_count": 7,
   "id": "f1b531e1",
   "metadata": {},
   "outputs": [],
   "source": [
    "#Filter Samer Branches\n",
    "filtered_df_ins_3 = filtered_df_ins_2[filtered_df_ins_2['PosNo'].isin([3, 5, 14, 15, 23, 25, 33, 36, 37, 40, 46,47])]"
   ]
  },
  {
   "cell_type": "code",
   "execution_count": null,
   "id": "80dff80d",
   "metadata": {
    "scrolled": false
   },
   "outputs": [],
   "source": [
    "#print data Insurance\n",
    "filtered_df_ins_3"
   ]
  },
  {
   "cell_type": "code",
   "execution_count": 9,
   "id": "d6339caf",
   "metadata": {},
   "outputs": [],
   "source": [
    "df1 = pd.DataFrame(filtered_df3)\n",
    "df2 = pd.DataFrame(filtered_df_ins_3)\n",
    "\n",
    "# Create an ExcelWriter object to save the data to an Excel file\n",
    "with pd.ExcelWriter('Returns.xlsx', engine='xlsxwriter') as writer:\n",
    "\n",
    "    # Write df1 to 'Sheet1' in the Excel file\n",
    "    df1.to_excel(writer, sheet_name='Cash_Returns', index=False)\n",
    "\n",
    "    # Write df2 to 'Sheet2' in the Excel file\n",
    "    df2.to_excel(writer, sheet_name='Insurance_Returns', index=False)"
   ]
  },
  {
   "cell_type": "code",
   "execution_count": null,
   "id": "90f7829c",
   "metadata": {},
   "outputs": [],
   "source": []
  }
 ],
 "metadata": {
  "kernelspec": {
   "display_name": "Python 3 (ipykernel)",
   "language": "python",
   "name": "python3"
  },
  "language_info": {
   "codemirror_mode": {
    "name": "ipython",
    "version": 3
   },
   "file_extension": ".py",
   "mimetype": "text/x-python",
   "name": "python",
   "nbconvert_exporter": "python",
   "pygments_lexer": "ipython3",
   "version": "3.11.4"
  }
 },
 "nbformat": 4,
 "nbformat_minor": 5
}
